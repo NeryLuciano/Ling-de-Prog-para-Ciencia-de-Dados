{
  "nbformat": 4,
  "nbformat_minor": 0,
  "metadata": {
    "colab": {
      "name": "Tarefa2_CAD.ipynb",
      "provenance": [],
      "authorship_tag": "ABX9TyN1HNz1o75PcbOHqLV0E1+2",
      "include_colab_link": true
    },
    "kernelspec": {
      "name": "python3",
      "display_name": "Python 3"
    },
    "language_info": {
      "name": "python"
    }
  },
  "cells": [
    {
      "cell_type": "markdown",
      "metadata": {
        "id": "view-in-github",
        "colab_type": "text"
      },
      "source": [
        "<a href=\"https://colab.research.google.com/github/NeryLuciano/Ling-de-Prog-para-Ciencia-de-Dados/blob/main/Tarefa2_CAD.ipynb\" target=\"_parent\"><img src=\"https://colab.research.google.com/assets/colab-badge.svg\" alt=\"Open In Colab\"/></a>"
      ]
    },
    {
      "cell_type": "code",
      "metadata": {
        "id": "09IY_OaW5h_6"
      },
      "source": [
        "import pandas as pd\n",
        "import requests\n",
        "from bs4 import BeautifulSoup\n",
        "import matplotlib.pyplot as plt\n",
        "import seaborn as sns"
      ],
      "execution_count": 1,
      "outputs": []
    },
    {
      "cell_type": "code",
      "metadata": {
        "id": "q2-IqZVv5lST"
      },
      "source": [
        "# Método para extrair várias páginas de uma só vez\n",
        "def scrape_stats(base_url, year_start, year_end):\n",
        "    years = range(year_start,year_end+1,1)\n",
        "\n",
        "    final_df = pd.DataFrame()\n",
        "\n",
        "    for year in years:\n",
        "        print('Extraindo ano {}'.format(year))\n",
        "        req_url = base_url.format(year)\n",
        "        req = requests.get(req_url)\n",
        "        soup = BeautifulSoup(req.content, 'html.parser')\n",
        "        table = soup.find('table', {'id':'totals_stats'})\n",
        "        df = pd.read_html(str(table))[0]\n",
        "        df['Year'] = year\n",
        "        final_df = final_df.append(df)\n",
        "    return final_df"
      ],
      "execution_count": 2,
      "outputs": []
    },
    {
      "cell_type": "code",
      "metadata": {
        "colab": {
          "base_uri": "https://localhost:8080/"
        },
        "id": "mq-rZYQgBdx6",
        "outputId": "d9273499-b674-4350-bdbe-1453a467ffce"
      },
      "source": [
        "# utilizando o método criado\n",
        "url = 'https://www.basketball-reference.com/leagues/NBA_{}_totals.html'\n",
        "df = scrape_stats(url, 2013, 2020)"
      ],
      "execution_count": 3,
      "outputs": [
        {
          "output_type": "stream",
          "name": "stdout",
          "text": [
            "Extraindo ano 2013\n",
            "Extraindo ano 2014\n",
            "Extraindo ano 2015\n",
            "Extraindo ano 2016\n",
            "Extraindo ano 2017\n",
            "Extraindo ano 2018\n",
            "Extraindo ano 2019\n",
            "Extraindo ano 2020\n"
          ]
        }
      ]
    },
    {
      "cell_type": "code",
      "metadata": {
        "colab": {
          "base_uri": "https://localhost:8080/"
        },
        "id": "IxLoRhJJBjpN",
        "outputId": "ea1f43c6-f386-44e1-a5ff-f2c37b9baaac"
      },
      "source": [
        "print(df)"
      ],
      "execution_count": 4,
      "outputs": [
        {
          "output_type": "stream",
          "name": "stdout",
          "text": [
            "      Rk         Player Pos Age   Tm   G  GS  ...  AST STL BLK  TOV   PF   PTS  Year\n",
            "0      1     Quincy Acy  PF  22  TOR  29   0  ...   11  13  15   17   53   116  2013\n",
            "1      2    Jeff Adrien  PF  26  CHA  52   5  ...   36  18  27   32   80   209  2013\n",
            "2      3  Arron Afflalo  SF  27  ORL  64  64  ...  206  40  11  138  137  1057  2013\n",
            "3      4   Josh Akognon  PG  26  DAL   3   0  ...    1   0   0    0    3     5  2013\n",
            "4      5   Cole Aldrich   C  24  TOT  45   0  ...    9   5  23   23   60   100  2013\n",
            "..   ...            ...  ..  ..  ...  ..  ..  ...  ...  ..  ..  ...  ...   ...   ...\n",
            "672  525     Trae Young  PG  21  ATL  60  60  ...  560  65   8  289  104  1778  2020\n",
            "673  526    Cody Zeller   C  27  CHO  58  39  ...   88  40  25   75  140   642  2020\n",
            "674  527   Tyler Zeller   C  30  SAS   2   0  ...    0   0   0    0    0     2  2020\n",
            "675  528     Ante Žižić   C  23  CLE  22   0  ...    6   7   5   10   27    96  2020\n",
            "676  529    Ivica Zubac   C  22  LAC  72  70  ...   82  16  66   61  168   596  2020\n",
            "\n",
            "[5227 rows x 31 columns]\n"
          ]
        }
      ]
    },
    {
      "cell_type": "code",
      "metadata": {
        "id": "teIslJMk5pDW"
      },
      "source": [
        "drop_indexes = df[df['Rk'] == 'Rk'].index # Pega indexes onde a coluna 'Rk' possui valor 'Rk'\n",
        "df.drop(drop_indexes, inplace=True) # elimina os valores dos index passados da tabela\n",
        "\n",
        "# Convertendo tabelas para valores numéricos\n",
        "numeric_cols = df.columns.drop(['Player','Pos','Tm'])\n",
        "df[numeric_cols] = df[numeric_cols].apply(pd.to_numeric)\n",
        "\n"
      ],
      "execution_count": 5,
      "outputs": []
    },
    {
      "cell_type": "code",
      "metadata": {
        "colab": {
          "base_uri": "https://localhost:8080/",
          "height": 296
        },
        "id": "hMLyHkncDrFN",
        "outputId": "6a5dceec-ad75-4da7-91ed-b57ffdd0f6f5"
      },
      "source": [
        "# Gráfico de média de bolas de 3 pontos arremessadas por ano\n",
        "df.reset_index(inplace=True)\n",
        "sns.lineplot(x=df['Year'], y=df['3PA'])"
      ],
      "execution_count": 7,
      "outputs": [
        {
          "output_type": "execute_result",
          "data": {
            "text/plain": [
              "<matplotlib.axes._subplots.AxesSubplot at 0x7f41899c2650>"
            ]
          },
          "metadata": {},
          "execution_count": 7
        },
        {
          "output_type": "display_data",
          "data": {
            "image/png": "[encoded data removed]",
            "text/plain": [
              "<Figure size 432x288 with 1 Axes>"
            ]
          },
          "metadata": {
            "needs_background": "light"
          }
        }
      ]
    },
    {
      "cell_type": "code",
      "metadata": {
        "colab": {
          "base_uri": "https://localhost:8080/",
          "height": 206
        },
        "id": "3yYYV6vK5zb0",
        "outputId": "de2f5f5d-d4d0-4f0a-f3be-18cb07b9abc4"
      },
      "source": [
        "# Ordena Data Frame por bola de 3 pontos convertidas em ordem decrescente\n",
        "sorted_df = df.sort_values(by=['3P'], axis=0, ascending=False)\n",
        "# Mostra 5 primeiras posições da tabela\n",
        "sorted_df[['Player', '3P', 'Year']].head()\n",
        "\n",
        "# Agrupando os dados por jogador e somando os valores\n",
        "grouped_df = df.groupby('Player', as_index=False).sum()\n",
        "# Ordena Data Frame por bolas de 3 pontos convertidas em ordem decrescente\n",
        "sorted_df = df.sort_values(by=['3P'], axis=0, ascending=False)\n",
        "# Mostra 5 primeiras posições da tabela\n",
        "sorted_df[['Player', 'Year', '3P', '3PA']].head()"
      ],
      "execution_count": 9,
      "outputs": [
        {
          "output_type": "execute_result",
          "data": {
            "text/html": [
              "<div>\n",
              "<style scoped>\n",
              "    .dataframe tbody tr th:only-of-type {\n",
              "        vertical-align: middle;\n",
              "    }\n",
              "\n",
              "    .dataframe tbody tr th {\n",
              "        vertical-align: top;\n",
              "    }\n",
              "\n",
              "    .dataframe thead th {\n",
              "        text-align: right;\n",
              "    }\n",
              "</style>\n",
              "<table border=\"1\" class=\"dataframe\">\n",
              "  <thead>\n",
              "    <tr style=\"text-align: right;\">\n",
              "      <th></th>\n",
              "      <th>Player</th>\n",
              "      <th>Year</th>\n",
              "      <th>3P</th>\n",
              "      <th>3PA</th>\n",
              "    </tr>\n",
              "  </thead>\n",
              "  <tbody>\n",
              "    <tr>\n",
              "      <th>1543</th>\n",
              "      <td>Stephen Curry</td>\n",
              "      <td>2016</td>\n",
              "      <td>402</td>\n",
              "      <td>886</td>\n",
              "    </tr>\n",
              "    <tr>\n",
              "      <th>3112</th>\n",
              "      <td>James Harden</td>\n",
              "      <td>2019</td>\n",
              "      <td>378</td>\n",
              "      <td>1028</td>\n",
              "    </tr>\n",
              "    <tr>\n",
              "      <th>3029</th>\n",
              "      <td>Stephen Curry</td>\n",
              "      <td>2019</td>\n",
              "      <td>354</td>\n",
              "      <td>810</td>\n",
              "    </tr>\n",
              "    <tr>\n",
              "      <th>2000</th>\n",
              "      <td>Stephen Curry</td>\n",
              "      <td>2017</td>\n",
              "      <td>324</td>\n",
              "      <td>789</td>\n",
              "    </tr>\n",
              "    <tr>\n",
              "      <th>3678</th>\n",
              "      <td>James Harden</td>\n",
              "      <td>2020</td>\n",
              "      <td>299</td>\n",
              "      <td>843</td>\n",
              "    </tr>\n",
              "  </tbody>\n",
              "</table>\n",
              "</div>"
            ],
            "text/plain": [
              "             Player  Year   3P   3PA\n",
              "1543  Stephen Curry  2016  402   886\n",
              "3112   James Harden  2019  378  1028\n",
              "3029  Stephen Curry  2019  354   810\n",
              "2000  Stephen Curry  2017  324   789\n",
              "3678   James Harden  2020  299   843"
            ]
          },
          "metadata": {},
          "execution_count": 9
        }
      ]
    }
  ]
}